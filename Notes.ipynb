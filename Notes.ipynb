{
 "cells": [
  {
   "cell_type": "markdown",
   "id": "da255dc6",
   "metadata": {},
   "source": [
    "## Linear Regression\n",
    "\n",
    "Here we want to implement linear regression from scratch. \n",
    "\n",
    "We'll choose as our hypothesis \n",
    "$$\n",
    "\\hat{y} = \\theta_0 + \\theta_1x.\n",
    "$$\n",
    "Therefore our aim is to find $\\theta$ such that we minimize the cost function $J(\\theta)$:\n",
    "$$\n",
    "\\min_\\theta J(\\theta) = \\frac{1}{m}\\sum_{i=1}^m(\\hat{y}^{(i)} - y^{(i)})^2,\n",
    "$$\n",
    "where $m$ is the number of training examples.\n",
    "\n",
    "### Updates\n",
    "We'll use gradient descent and update $\\theta$ as $\\theta := \\theta - \\alpha\\frac{\\partial J}{\\partial\\theta}$, where $\\alpha$ is the learning rate. Working through the algebra gives\n",
    "$$\n",
    "\\frac{\\partial J}{\\partial\\theta_0} = \\frac{2}{m}\\sum_{i=1}^m(\\hat{y}^{(i)} - y^{(i)})\n",
    "\\\\\n",
    "\\frac{\\partial J}{\\partial\\theta_1} = \\frac{2}{m}\\sum_{i=1}^mx^{(i)}(\\hat{y}^{(i)} - y^{(i)})\n",
    "$$\n",
    "and we note that we can drop the factors of $2/m$ since they simply scale the result."
   ]
  },
  {
   "cell_type": "markdown",
   "id": "b7cb6393",
   "metadata": {},
   "source": [
    "## Results\n",
    "\n",
    "Plots of the linear regression for a synthetic dataset of 100 points for various learning rates with a couple of different values for #iterations is shown below. Note that in the upper plot, there weren't enough iterations for runs with learning rates of 0.001 and 0.0001 to converge, and even with 1000 iterations a learning rate of 0.001 was still to slow to converge to the solution.\n",
    "\n",
    "![Regression results](./linear_regression/results.png)"
   ]
  }
 ],
 "metadata": {
  "kernelspec": {
   "display_name": "Python 3",
   "language": "python",
   "name": "python3"
  },
  "language_info": {
   "codemirror_mode": {
    "name": "ipython",
    "version": 3
   },
   "file_extension": ".py",
   "mimetype": "text/x-python",
   "name": "python",
   "nbconvert_exporter": "python",
   "pygments_lexer": "ipython3",
   "version": "3.8.8"
  }
 },
 "nbformat": 4,
 "nbformat_minor": 5
}
